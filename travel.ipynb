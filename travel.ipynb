{
 "cells": [
  {
   "cell_type": "markdown",
   "id": "95218e80",
   "metadata": {},
   "source": [
    "# TRAVEL DATASET"
   ]
  },
  {
   "cell_type": "markdown",
   "id": "08910293",
   "metadata": {},
   "source": [
    "IMPORTING THE LIBRARIES"
   ]
  },
  {
   "cell_type": "code",
   "execution_count": 288,
   "id": "a7dc1f97",
   "metadata": {},
   "outputs": [],
   "source": [
    "import numpy as np\n",
    "import pandas as pd\n",
    "import matplotlib.pyplot as plt\n",
    "import seaborn as sns"
   ]
  },
  {
   "cell_type": "markdown",
   "id": "97f5c0c8",
   "metadata": {},
   "source": [
    "LOAD THE DATASET"
   ]
  },
  {
   "cell_type": "code",
   "execution_count": 289,
   "id": "fd8c344d",
   "metadata": {},
   "outputs": [
    {
     "data": {
      "text/html": [
       "<div>\n",
       "<style scoped>\n",
       "    .dataframe tbody tr th:only-of-type {\n",
       "        vertical-align: middle;\n",
       "    }\n",
       "\n",
       "    .dataframe tbody tr th {\n",
       "        vertical-align: top;\n",
       "    }\n",
       "\n",
       "    .dataframe thead th {\n",
       "        text-align: right;\n",
       "    }\n",
       "</style>\n",
       "<table border=\"1\" class=\"dataframe\">\n",
       "  <thead>\n",
       "    <tr style=\"text-align: right;\">\n",
       "      <th></th>\n",
       "      <th>Trip ID</th>\n",
       "      <th>Destination</th>\n",
       "      <th>Start date</th>\n",
       "      <th>End date</th>\n",
       "      <th>Duration (days)</th>\n",
       "      <th>Traveler name</th>\n",
       "      <th>Traveler age</th>\n",
       "      <th>Traveler gender</th>\n",
       "      <th>Traveler nationality</th>\n",
       "      <th>Accommodation type</th>\n",
       "      <th>Accommodation cost</th>\n",
       "      <th>Transportation type</th>\n",
       "      <th>Transportation cost</th>\n",
       "    </tr>\n",
       "  </thead>\n",
       "  <tbody>\n",
       "    <tr>\n",
       "      <th>0</th>\n",
       "      <td>1</td>\n",
       "      <td>London, UK</td>\n",
       "      <td>5/1/2023</td>\n",
       "      <td>5/8/2023</td>\n",
       "      <td>7.0</td>\n",
       "      <td>John Smith</td>\n",
       "      <td>35.0</td>\n",
       "      <td>Male</td>\n",
       "      <td>American</td>\n",
       "      <td>Hotel</td>\n",
       "      <td>1200</td>\n",
       "      <td>Flight</td>\n",
       "      <td>600</td>\n",
       "    </tr>\n",
       "    <tr>\n",
       "      <th>1</th>\n",
       "      <td>2</td>\n",
       "      <td>Phuket, Thailand</td>\n",
       "      <td>6/15/2023</td>\n",
       "      <td>6/20/2023</td>\n",
       "      <td>5.0</td>\n",
       "      <td>Jane Doe</td>\n",
       "      <td>28.0</td>\n",
       "      <td>Female</td>\n",
       "      <td>Canadian</td>\n",
       "      <td>Resort</td>\n",
       "      <td>800</td>\n",
       "      <td>Flight</td>\n",
       "      <td>500</td>\n",
       "    </tr>\n",
       "    <tr>\n",
       "      <th>2</th>\n",
       "      <td>3</td>\n",
       "      <td>Bali, Indonesia</td>\n",
       "      <td>7/1/2023</td>\n",
       "      <td>7/8/2023</td>\n",
       "      <td>7.0</td>\n",
       "      <td>David Lee</td>\n",
       "      <td>45.0</td>\n",
       "      <td>Male</td>\n",
       "      <td>Korean</td>\n",
       "      <td>Villa</td>\n",
       "      <td>1000</td>\n",
       "      <td>Flight</td>\n",
       "      <td>700</td>\n",
       "    </tr>\n",
       "    <tr>\n",
       "      <th>3</th>\n",
       "      <td>4</td>\n",
       "      <td>New York, USA</td>\n",
       "      <td>8/15/2023</td>\n",
       "      <td>8/29/2023</td>\n",
       "      <td>14.0</td>\n",
       "      <td>Sarah Johnson</td>\n",
       "      <td>29.0</td>\n",
       "      <td>Female</td>\n",
       "      <td>British</td>\n",
       "      <td>Hotel</td>\n",
       "      <td>2000</td>\n",
       "      <td>Flight</td>\n",
       "      <td>1000</td>\n",
       "    </tr>\n",
       "    <tr>\n",
       "      <th>4</th>\n",
       "      <td>5</td>\n",
       "      <td>Tokyo, Japan</td>\n",
       "      <td>9/10/2023</td>\n",
       "      <td>9/17/2023</td>\n",
       "      <td>7.0</td>\n",
       "      <td>Kim Nguyen</td>\n",
       "      <td>26.0</td>\n",
       "      <td>Female</td>\n",
       "      <td>Vietnamese</td>\n",
       "      <td>Airbnb</td>\n",
       "      <td>700</td>\n",
       "      <td>Train</td>\n",
       "      <td>200</td>\n",
       "    </tr>\n",
       "    <tr>\n",
       "      <th>...</th>\n",
       "      <td>...</td>\n",
       "      <td>...</td>\n",
       "      <td>...</td>\n",
       "      <td>...</td>\n",
       "      <td>...</td>\n",
       "      <td>...</td>\n",
       "      <td>...</td>\n",
       "      <td>...</td>\n",
       "      <td>...</td>\n",
       "      <td>...</td>\n",
       "      <td>...</td>\n",
       "      <td>...</td>\n",
       "      <td>...</td>\n",
       "    </tr>\n",
       "    <tr>\n",
       "      <th>134</th>\n",
       "      <td>135</td>\n",
       "      <td>Rio de Janeiro, Brazil</td>\n",
       "      <td>8/1/2023</td>\n",
       "      <td>8/10/2023</td>\n",
       "      <td>9.0</td>\n",
       "      <td>Jose Perez</td>\n",
       "      <td>37.0</td>\n",
       "      <td>Male</td>\n",
       "      <td>Brazilian</td>\n",
       "      <td>Hostel</td>\n",
       "      <td>2500</td>\n",
       "      <td>Car</td>\n",
       "      <td>2000</td>\n",
       "    </tr>\n",
       "    <tr>\n",
       "      <th>135</th>\n",
       "      <td>136</td>\n",
       "      <td>Vancouver, Canada</td>\n",
       "      <td>8/15/2023</td>\n",
       "      <td>8/21/2023</td>\n",
       "      <td>6.0</td>\n",
       "      <td>Emma Wilson</td>\n",
       "      <td>29.0</td>\n",
       "      <td>Female</td>\n",
       "      <td>Canadian</td>\n",
       "      <td>Hotel</td>\n",
       "      <td>5000</td>\n",
       "      <td>Airplane</td>\n",
       "      <td>3000</td>\n",
       "    </tr>\n",
       "    <tr>\n",
       "      <th>136</th>\n",
       "      <td>137</td>\n",
       "      <td>Bangkok, Thailand</td>\n",
       "      <td>9/1/2023</td>\n",
       "      <td>9/8/2023</td>\n",
       "      <td>7.0</td>\n",
       "      <td>Ryan Chen</td>\n",
       "      <td>34.0</td>\n",
       "      <td>Male</td>\n",
       "      <td>Chinese</td>\n",
       "      <td>Hostel</td>\n",
       "      <td>2000</td>\n",
       "      <td>Train</td>\n",
       "      <td>1000</td>\n",
       "    </tr>\n",
       "    <tr>\n",
       "      <th>137</th>\n",
       "      <td>138</td>\n",
       "      <td>Barcelona, Spain</td>\n",
       "      <td>9/15/2023</td>\n",
       "      <td>9/22/2023</td>\n",
       "      <td>7.0</td>\n",
       "      <td>Sofia Rodriguez</td>\n",
       "      <td>25.0</td>\n",
       "      <td>Female</td>\n",
       "      <td>Spanish</td>\n",
       "      <td>Airbnb</td>\n",
       "      <td>6000</td>\n",
       "      <td>Airplane</td>\n",
       "      <td>2500</td>\n",
       "    </tr>\n",
       "    <tr>\n",
       "      <th>138</th>\n",
       "      <td>139</td>\n",
       "      <td>Auckland, New Zealand</td>\n",
       "      <td>10/1/2023</td>\n",
       "      <td>10/8/2023</td>\n",
       "      <td>7.0</td>\n",
       "      <td>William Brown</td>\n",
       "      <td>39.0</td>\n",
       "      <td>Male</td>\n",
       "      <td>New Zealander</td>\n",
       "      <td>Hotel</td>\n",
       "      <td>7000</td>\n",
       "      <td>Train</td>\n",
       "      <td>2500</td>\n",
       "    </tr>\n",
       "  </tbody>\n",
       "</table>\n",
       "<p>139 rows × 13 columns</p>\n",
       "</div>"
      ],
      "text/plain": [
       "     Trip ID             Destination Start date   End date  Duration (days)  \\\n",
       "0          1              London, UK   5/1/2023   5/8/2023              7.0   \n",
       "1          2        Phuket, Thailand  6/15/2023  6/20/2023              5.0   \n",
       "2          3         Bali, Indonesia   7/1/2023   7/8/2023              7.0   \n",
       "3          4           New York, USA  8/15/2023  8/29/2023             14.0   \n",
       "4          5            Tokyo, Japan  9/10/2023  9/17/2023              7.0   \n",
       "..       ...                     ...        ...        ...              ...   \n",
       "134      135  Rio de Janeiro, Brazil   8/1/2023  8/10/2023              9.0   \n",
       "135      136       Vancouver, Canada  8/15/2023  8/21/2023              6.0   \n",
       "136      137       Bangkok, Thailand   9/1/2023   9/8/2023              7.0   \n",
       "137      138        Barcelona, Spain  9/15/2023  9/22/2023              7.0   \n",
       "138      139   Auckland, New Zealand  10/1/2023  10/8/2023              7.0   \n",
       "\n",
       "       Traveler name  Traveler age Traveler gender Traveler nationality  \\\n",
       "0         John Smith          35.0            Male             American   \n",
       "1           Jane Doe          28.0          Female             Canadian   \n",
       "2          David Lee          45.0            Male               Korean   \n",
       "3      Sarah Johnson          29.0          Female              British   \n",
       "4         Kim Nguyen          26.0          Female           Vietnamese   \n",
       "..               ...           ...             ...                  ...   \n",
       "134       Jose Perez          37.0            Male            Brazilian   \n",
       "135      Emma Wilson          29.0          Female             Canadian   \n",
       "136        Ryan Chen          34.0            Male              Chinese   \n",
       "137  Sofia Rodriguez          25.0          Female              Spanish   \n",
       "138    William Brown          39.0            Male        New Zealander   \n",
       "\n",
       "    Accommodation type Accommodation cost Transportation type  \\\n",
       "0                Hotel               1200              Flight   \n",
       "1               Resort                800              Flight   \n",
       "2                Villa               1000              Flight   \n",
       "3                Hotel               2000              Flight   \n",
       "4               Airbnb                700               Train   \n",
       "..                 ...                ...                 ...   \n",
       "134             Hostel               2500                 Car   \n",
       "135              Hotel               5000            Airplane   \n",
       "136             Hostel               2000               Train   \n",
       "137             Airbnb               6000            Airplane   \n",
       "138              Hotel               7000               Train   \n",
       "\n",
       "    Transportation cost  \n",
       "0                   600  \n",
       "1                   500  \n",
       "2                   700  \n",
       "3                  1000  \n",
       "4                   200  \n",
       "..                  ...  \n",
       "134                2000  \n",
       "135                3000  \n",
       "136                1000  \n",
       "137                2500  \n",
       "138                2500  \n",
       "\n",
       "[139 rows x 13 columns]"
      ]
     },
     "execution_count": 289,
     "metadata": {},
     "output_type": "execute_result"
    }
   ],
   "source": [
    "df = pd.read_csv(\"travel.csv\")\n",
    "df"
   ]
  },
  {
   "cell_type": "markdown",
   "id": "9b6366f5",
   "metadata": {},
   "source": [
    "UNDERSTAND EACH COLUMN"
   ]
  },
  {
   "cell_type": "code",
   "execution_count": 290,
   "id": "d2b280c6",
   "metadata": {},
   "outputs": [
    {
     "data": {
      "text/plain": [
       "Index(['Trip ID', 'Destination', 'Start date', 'End date', 'Duration (days)',\n",
       "       'Traveler name', 'Traveler age', 'Traveler gender',\n",
       "       'Traveler nationality', 'Accommodation type', 'Accommodation cost',\n",
       "       'Transportation type', 'Transportation cost'],\n",
       "      dtype='object')"
      ]
     },
     "execution_count": 290,
     "metadata": {},
     "output_type": "execute_result"
    }
   ],
   "source": [
    "df.columns"
   ]
  },
  {
   "cell_type": "markdown",
   "id": "89e0fd9e",
   "metadata": {},
   "source": [
    "Columns:\n",
    "- City: Travel destination\n",
    "- State: State where city is located\n",
    "- Category: Type of destination (Historical, Beach, Hill Station, etc.)\n",
    "- Popularity: Popularity score (0–100)\n",
    "- Budget: Estimated cost to visit\n",
    "- Days: Suggested duration of stay\n",
    "- Rating: User rating\n",
    "- Reviews: Number of reviews"
   ]
  },
  {
   "cell_type": "markdown",
   "id": "bc8d2fb8",
   "metadata": {},
   "source": [
    "GET THE INFORMATION OF COLUMNS AND NOTE THE OBSERVATION"
   ]
  },
  {
   "cell_type": "code",
   "execution_count": null,
   "id": "cff7fe88",
   "metadata": {},
   "outputs": [
    {
     "name": "stdout",
     "output_type": "stream",
     "text": [
      "<class 'pandas.core.frame.DataFrame'>\n",
      "RangeIndex: 139 entries, 0 to 138\n",
      "Data columns (total 13 columns):\n",
      " #   Column                Non-Null Count  Dtype  \n",
      "---  ------                --------------  -----  \n",
      " 0   Trip ID               139 non-null    int64  \n",
      " 1   Destination           137 non-null    object \n",
      " 2   Start date            137 non-null    object \n",
      " 3   End date              137 non-null    object \n",
      " 4   Duration (days)       137 non-null    float64\n",
      " 5   Traveler name         137 non-null    object \n",
      " 6   Traveler age          137 non-null    float64\n",
      " 7   Traveler gender       137 non-null    object \n",
      " 8   Traveler nationality  137 non-null    object \n",
      " 9   Accommodation type    137 non-null    object \n",
      " 10  Accommodation cost    137 non-null    object \n",
      " 11  Transportation type   136 non-null    object \n",
      " 12  Transportation cost   136 non-null    object \n",
      "dtypes: float64(2), int64(1), object(10)\n",
      "memory usage: 14.2+ KB\n"
     ]
    }
   ],
   "source": [
    "df.info()"
   ]
  },
  {
   "cell_type": "markdown",
   "id": "4d7392b4",
   "metadata": {},
   "source": [
    " OBSERVATION: \n",
    " - Start date and End date data types are not appropriate \n",
    " - Cost and age coulmns data types are not appropriate "
   ]
  },
  {
   "cell_type": "markdown",
   "id": "3d48e5a3",
   "metadata": {},
   "source": [
    "Understand the data inside the dataframe using head()"
   ]
  },
  {
   "cell_type": "code",
   "execution_count": 292,
   "id": "8d6934b5",
   "metadata": {},
   "outputs": [
    {
     "data": {
      "text/html": [
       "<div>\n",
       "<style scoped>\n",
       "    .dataframe tbody tr th:only-of-type {\n",
       "        vertical-align: middle;\n",
       "    }\n",
       "\n",
       "    .dataframe tbody tr th {\n",
       "        vertical-align: top;\n",
       "    }\n",
       "\n",
       "    .dataframe thead th {\n",
       "        text-align: right;\n",
       "    }\n",
       "</style>\n",
       "<table border=\"1\" class=\"dataframe\">\n",
       "  <thead>\n",
       "    <tr style=\"text-align: right;\">\n",
       "      <th></th>\n",
       "      <th>Trip ID</th>\n",
       "      <th>Destination</th>\n",
       "      <th>Start date</th>\n",
       "      <th>End date</th>\n",
       "      <th>Duration (days)</th>\n",
       "      <th>Traveler name</th>\n",
       "      <th>Traveler age</th>\n",
       "      <th>Traveler gender</th>\n",
       "      <th>Traveler nationality</th>\n",
       "      <th>Accommodation type</th>\n",
       "      <th>Accommodation cost</th>\n",
       "      <th>Transportation type</th>\n",
       "      <th>Transportation cost</th>\n",
       "    </tr>\n",
       "  </thead>\n",
       "  <tbody>\n",
       "    <tr>\n",
       "      <th>0</th>\n",
       "      <td>1</td>\n",
       "      <td>London, UK</td>\n",
       "      <td>5/1/2023</td>\n",
       "      <td>5/8/2023</td>\n",
       "      <td>7.0</td>\n",
       "      <td>John Smith</td>\n",
       "      <td>35.0</td>\n",
       "      <td>Male</td>\n",
       "      <td>American</td>\n",
       "      <td>Hotel</td>\n",
       "      <td>1200</td>\n",
       "      <td>Flight</td>\n",
       "      <td>600</td>\n",
       "    </tr>\n",
       "    <tr>\n",
       "      <th>1</th>\n",
       "      <td>2</td>\n",
       "      <td>Phuket, Thailand</td>\n",
       "      <td>6/15/2023</td>\n",
       "      <td>6/20/2023</td>\n",
       "      <td>5.0</td>\n",
       "      <td>Jane Doe</td>\n",
       "      <td>28.0</td>\n",
       "      <td>Female</td>\n",
       "      <td>Canadian</td>\n",
       "      <td>Resort</td>\n",
       "      <td>800</td>\n",
       "      <td>Flight</td>\n",
       "      <td>500</td>\n",
       "    </tr>\n",
       "    <tr>\n",
       "      <th>2</th>\n",
       "      <td>3</td>\n",
       "      <td>Bali, Indonesia</td>\n",
       "      <td>7/1/2023</td>\n",
       "      <td>7/8/2023</td>\n",
       "      <td>7.0</td>\n",
       "      <td>David Lee</td>\n",
       "      <td>45.0</td>\n",
       "      <td>Male</td>\n",
       "      <td>Korean</td>\n",
       "      <td>Villa</td>\n",
       "      <td>1000</td>\n",
       "      <td>Flight</td>\n",
       "      <td>700</td>\n",
       "    </tr>\n",
       "    <tr>\n",
       "      <th>3</th>\n",
       "      <td>4</td>\n",
       "      <td>New York, USA</td>\n",
       "      <td>8/15/2023</td>\n",
       "      <td>8/29/2023</td>\n",
       "      <td>14.0</td>\n",
       "      <td>Sarah Johnson</td>\n",
       "      <td>29.0</td>\n",
       "      <td>Female</td>\n",
       "      <td>British</td>\n",
       "      <td>Hotel</td>\n",
       "      <td>2000</td>\n",
       "      <td>Flight</td>\n",
       "      <td>1000</td>\n",
       "    </tr>\n",
       "    <tr>\n",
       "      <th>4</th>\n",
       "      <td>5</td>\n",
       "      <td>Tokyo, Japan</td>\n",
       "      <td>9/10/2023</td>\n",
       "      <td>9/17/2023</td>\n",
       "      <td>7.0</td>\n",
       "      <td>Kim Nguyen</td>\n",
       "      <td>26.0</td>\n",
       "      <td>Female</td>\n",
       "      <td>Vietnamese</td>\n",
       "      <td>Airbnb</td>\n",
       "      <td>700</td>\n",
       "      <td>Train</td>\n",
       "      <td>200</td>\n",
       "    </tr>\n",
       "  </tbody>\n",
       "</table>\n",
       "</div>"
      ],
      "text/plain": [
       "   Trip ID       Destination Start date   End date  Duration (days)  \\\n",
       "0        1        London, UK   5/1/2023   5/8/2023              7.0   \n",
       "1        2  Phuket, Thailand  6/15/2023  6/20/2023              5.0   \n",
       "2        3   Bali, Indonesia   7/1/2023   7/8/2023              7.0   \n",
       "3        4     New York, USA  8/15/2023  8/29/2023             14.0   \n",
       "4        5      Tokyo, Japan  9/10/2023  9/17/2023              7.0   \n",
       "\n",
       "   Traveler name  Traveler age Traveler gender Traveler nationality  \\\n",
       "0     John Smith          35.0            Male             American   \n",
       "1       Jane Doe          28.0          Female             Canadian   \n",
       "2      David Lee          45.0            Male               Korean   \n",
       "3  Sarah Johnson          29.0          Female              British   \n",
       "4     Kim Nguyen          26.0          Female           Vietnamese   \n",
       "\n",
       "  Accommodation type Accommodation cost Transportation type  \\\n",
       "0              Hotel               1200              Flight   \n",
       "1             Resort                800              Flight   \n",
       "2              Villa               1000              Flight   \n",
       "3              Hotel               2000              Flight   \n",
       "4             Airbnb                700               Train   \n",
       "\n",
       "  Transportation cost  \n",
       "0                 600  \n",
       "1                 500  \n",
       "2                 700  \n",
       "3                1000  \n",
       "4                 200  "
      ]
     },
     "execution_count": 292,
     "metadata": {},
     "output_type": "execute_result"
    }
   ],
   "source": [
    "df.head()"
   ]
  },
  {
   "cell_type": "markdown",
   "id": "b4bdddad",
   "metadata": {},
   "source": [
    "# DATA CLEANING"
   ]
  },
  {
   "cell_type": "markdown",
   "id": "e533f10e",
   "metadata": {},
   "source": [
    "1. Check and remove duplicates"
   ]
  },
  {
   "cell_type": "code",
   "execution_count": 293,
   "id": "36202d6a",
   "metadata": {},
   "outputs": [
    {
     "data": {
      "text/plain": [
       "np.False_"
      ]
     },
     "execution_count": 293,
     "metadata": {},
     "output_type": "execute_result"
    }
   ],
   "source": [
    "df.duplicated().any()"
   ]
  },
  {
   "cell_type": "markdown",
   "id": "914293af",
   "metadata": {},
   "source": [
    "2. Check missing values"
   ]
  },
  {
   "cell_type": "code",
   "execution_count": 294,
   "id": "43f8089b",
   "metadata": {},
   "outputs": [
    {
     "data": {
      "text/plain": [
       "Trip ID                 0\n",
       "Destination             2\n",
       "Start date              2\n",
       "End date                2\n",
       "Duration (days)         2\n",
       "Traveler name           2\n",
       "Traveler age            2\n",
       "Traveler gender         2\n",
       "Traveler nationality    2\n",
       "Accommodation type      2\n",
       "Accommodation cost      2\n",
       "Transportation type     3\n",
       "Transportation cost     3\n",
       "dtype: int64"
      ]
     },
     "execution_count": 294,
     "metadata": {},
     "output_type": "execute_result"
    }
   ],
   "source": [
    "df.isnull().sum()"
   ]
  },
  {
   "cell_type": "markdown",
   "id": "db850db6",
   "metadata": {},
   "source": [
    "# DATA TRANFORMATION"
   ]
  },
  {
   "cell_type": "markdown",
   "id": "dc5bc888",
   "metadata": {},
   "source": [
    "1. RENAMING THE COLUMNS"
   ]
  },
  {
   "cell_type": "code",
   "execution_count": 295,
   "id": "f600fc67",
   "metadata": {},
   "outputs": [],
   "source": [
    "df = df.rename(columns={\n",
    "    'Trip ID': 'Trip_ID',\n",
    "    'Traveler name': 'Traveler_Name',\n",
    "    'Traveler age': 'Traveler_Age',\n",
    "    'Traveler gender': 'Traveler_Gender',\n",
    "    'Traveler nationality': 'Traveler_Nationality',\n",
    "    'Accommodation type': 'Accommodation_Type',\n",
    "    'Accommodation cost': 'Accommodation_Cost',\n",
    "    'Transportation type': 'Transportation_Type',\n",
    "    'Transportation cost': 'Transportation_Cost'\n",
    "})"
   ]
  },
  {
   "cell_type": "markdown",
   "id": "8ea4a7b6",
   "metadata": {},
   "source": [
    "2. CONVERTING THE DATA TYPE"
   ]
  },
  {
   "cell_type": "code",
   "execution_count": 297,
   "id": "1cc883c8",
   "metadata": {},
   "outputs": [],
   "source": [
    "df['Accommodation_Cost'] = pd.to_numeric(df['Accommodation_Cost'], errors='coerce')\n",
    "df['Transportation_Cost'] = pd.to_numeric(df['Transportation_Cost'], errors='coerce')\n",
    "df['Traveler_Age'] = pd.to_numeric(df['Traveler_Age'], errors='coerce')"
   ]
  },
  {
   "cell_type": "markdown",
   "id": "6a9815cb",
   "metadata": {},
   "source": [
    "3. FILLING NaNs"
   ]
  },
  {
   "cell_type": "code",
   "execution_count": 298,
   "id": "50c2dc1b",
   "metadata": {},
   "outputs": [],
   "source": [
    "df['Accommodation_Cost'] = df['Accommodation_Cost'].fillna(df['Accommodation_Cost'].mean())\n",
    "df['Transportation_Cost'] = df['Transportation_Cost'].fillna(df['Transportation_Cost'].mean())\n",
    "df['Traveler_Age'] = df['Traveler_Age'].fillna(df['Traveler_Age'].median()).astype(int)\n",
    "\n",
    "df['Destination'] = df['Destination'].fillna('Unknown')\n",
    "df['Start date'] = df['Start date'].fillna('Unknown')\n",
    "df['End date'] = df['End date'].fillna('Unknown')\n",
    "df['Duration (days)'] = df['Duration (days)'].fillna(df['Duration (days)'].median())\n",
    "df['Traveler_Name'] = df['Traveler_Name'].fillna('Anonymous')\n",
    "df['Traveler_Gender'] = df['Traveler_Gender'].fillna(df['Traveler_Gender'].mode()[0])\n",
    "df['Traveler_Nationality'] = df['Traveler_Nationality'].fillna('Unknown')\n"
   ]
  },
  {
   "cell_type": "markdown",
   "id": "be30e622",
   "metadata": {},
   "source": [
    "4. CREATE COST CATEGORY COLUMN"
   ]
  },
  {
   "cell_type": "code",
   "execution_count": 302,
   "id": "5b8bffce",
   "metadata": {},
   "outputs": [],
   "source": [
    "df['Total_Cost'] = df['Accommodation_Cost'] + df['Transportation_Cost']\n",
    "\n",
    "df['Total_Cost'] = pd.to_numeric(df['Total_Cost'], errors='coerce')\n",
    "\n",
    "df = df.dropna(subset=['Total_Cost'])\n",
    "\n",
    "df['Cost_Category'] = pd.cut(df['Total_Cost'],\n",
    "                             bins=[0, 1000, 2000, 3000, 10000],\n",
    "                             labels=['Low', 'Medium', 'High', 'Luxury'],\n",
    "                             include_lowest=True)\n"
   ]
  },
  {
   "cell_type": "markdown",
   "id": "ccc043d1",
   "metadata": {},
   "source": [
    "5. REARRANGE COLUMNS"
   ]
  },
  {
   "cell_type": "code",
   "execution_count": 303,
   "id": "587c2787",
   "metadata": {},
   "outputs": [
    {
     "data": {
      "text/html": [
       "<div>\n",
       "<style scoped>\n",
       "    .dataframe tbody tr th:only-of-type {\n",
       "        vertical-align: middle;\n",
       "    }\n",
       "\n",
       "    .dataframe tbody tr th {\n",
       "        vertical-align: top;\n",
       "    }\n",
       "\n",
       "    .dataframe thead th {\n",
       "        text-align: right;\n",
       "    }\n",
       "</style>\n",
       "<table border=\"1\" class=\"dataframe\">\n",
       "  <thead>\n",
       "    <tr style=\"text-align: right;\">\n",
       "      <th></th>\n",
       "      <th>Trip_ID</th>\n",
       "      <th>Traveler_Name</th>\n",
       "      <th>Traveler_Gender</th>\n",
       "      <th>Traveler_Age</th>\n",
       "      <th>Traveler_Nationality</th>\n",
       "      <th>Destination</th>\n",
       "      <th>Start date</th>\n",
       "      <th>End date</th>\n",
       "      <th>Duration (days)</th>\n",
       "      <th>Accommodation_Type</th>\n",
       "      <th>Accommodation_Cost</th>\n",
       "      <th>Transportation_Type</th>\n",
       "      <th>Transportation_Cost</th>\n",
       "      <th>Total_Cost</th>\n",
       "      <th>Cost_Category</th>\n",
       "    </tr>\n",
       "  </thead>\n",
       "  <tbody>\n",
       "    <tr>\n",
       "      <th>0</th>\n",
       "      <td>1</td>\n",
       "      <td>John Smith</td>\n",
       "      <td>Male</td>\n",
       "      <td>35</td>\n",
       "      <td>American</td>\n",
       "      <td>London, UK</td>\n",
       "      <td>5/1/2023</td>\n",
       "      <td>5/8/2023</td>\n",
       "      <td>7.0</td>\n",
       "      <td>Hotel</td>\n",
       "      <td>1200.0</td>\n",
       "      <td>Flight</td>\n",
       "      <td>600.0</td>\n",
       "      <td>1800.0</td>\n",
       "      <td>Medium</td>\n",
       "    </tr>\n",
       "    <tr>\n",
       "      <th>1</th>\n",
       "      <td>2</td>\n",
       "      <td>Jane Doe</td>\n",
       "      <td>Female</td>\n",
       "      <td>28</td>\n",
       "      <td>Canadian</td>\n",
       "      <td>Phuket, Thailand</td>\n",
       "      <td>6/15/2023</td>\n",
       "      <td>6/20/2023</td>\n",
       "      <td>5.0</td>\n",
       "      <td>Resort</td>\n",
       "      <td>800.0</td>\n",
       "      <td>Flight</td>\n",
       "      <td>500.0</td>\n",
       "      <td>1300.0</td>\n",
       "      <td>Medium</td>\n",
       "    </tr>\n",
       "    <tr>\n",
       "      <th>2</th>\n",
       "      <td>3</td>\n",
       "      <td>David Lee</td>\n",
       "      <td>Male</td>\n",
       "      <td>45</td>\n",
       "      <td>Korean</td>\n",
       "      <td>Bali, Indonesia</td>\n",
       "      <td>7/1/2023</td>\n",
       "      <td>7/8/2023</td>\n",
       "      <td>7.0</td>\n",
       "      <td>Villa</td>\n",
       "      <td>1000.0</td>\n",
       "      <td>Flight</td>\n",
       "      <td>700.0</td>\n",
       "      <td>1700.0</td>\n",
       "      <td>Medium</td>\n",
       "    </tr>\n",
       "    <tr>\n",
       "      <th>3</th>\n",
       "      <td>4</td>\n",
       "      <td>Sarah Johnson</td>\n",
       "      <td>Female</td>\n",
       "      <td>29</td>\n",
       "      <td>British</td>\n",
       "      <td>New York, USA</td>\n",
       "      <td>8/15/2023</td>\n",
       "      <td>8/29/2023</td>\n",
       "      <td>14.0</td>\n",
       "      <td>Hotel</td>\n",
       "      <td>2000.0</td>\n",
       "      <td>Flight</td>\n",
       "      <td>1000.0</td>\n",
       "      <td>3000.0</td>\n",
       "      <td>High</td>\n",
       "    </tr>\n",
       "    <tr>\n",
       "      <th>4</th>\n",
       "      <td>5</td>\n",
       "      <td>Kim Nguyen</td>\n",
       "      <td>Female</td>\n",
       "      <td>26</td>\n",
       "      <td>Vietnamese</td>\n",
       "      <td>Tokyo, Japan</td>\n",
       "      <td>9/10/2023</td>\n",
       "      <td>9/17/2023</td>\n",
       "      <td>7.0</td>\n",
       "      <td>Airbnb</td>\n",
       "      <td>700.0</td>\n",
       "      <td>Train</td>\n",
       "      <td>200.0</td>\n",
       "      <td>900.0</td>\n",
       "      <td>Low</td>\n",
       "    </tr>\n",
       "  </tbody>\n",
       "</table>\n",
       "</div>"
      ],
      "text/plain": [
       "   Trip_ID  Traveler_Name Traveler_Gender  Traveler_Age Traveler_Nationality  \\\n",
       "0        1     John Smith            Male            35             American   \n",
       "1        2       Jane Doe          Female            28             Canadian   \n",
       "2        3      David Lee            Male            45               Korean   \n",
       "3        4  Sarah Johnson          Female            29              British   \n",
       "4        5     Kim Nguyen          Female            26           Vietnamese   \n",
       "\n",
       "        Destination Start date   End date  Duration (days) Accommodation_Type  \\\n",
       "0        London, UK   5/1/2023   5/8/2023              7.0              Hotel   \n",
       "1  Phuket, Thailand  6/15/2023  6/20/2023              5.0             Resort   \n",
       "2   Bali, Indonesia   7/1/2023   7/8/2023              7.0              Villa   \n",
       "3     New York, USA  8/15/2023  8/29/2023             14.0              Hotel   \n",
       "4      Tokyo, Japan  9/10/2023  9/17/2023              7.0             Airbnb   \n",
       "\n",
       "   Accommodation_Cost Transportation_Type  Transportation_Cost  Total_Cost  \\\n",
       "0              1200.0              Flight                600.0      1800.0   \n",
       "1               800.0              Flight                500.0      1300.0   \n",
       "2              1000.0              Flight                700.0      1700.0   \n",
       "3              2000.0              Flight               1000.0      3000.0   \n",
       "4               700.0               Train                200.0       900.0   \n",
       "\n",
       "  Cost_Category  \n",
       "0        Medium  \n",
       "1        Medium  \n",
       "2        Medium  \n",
       "3          High  \n",
       "4           Low  "
      ]
     },
     "execution_count": 303,
     "metadata": {},
     "output_type": "execute_result"
    }
   ],
   "source": [
    "df = df[['Trip_ID', 'Traveler_Name', 'Traveler_Gender', 'Traveler_Age', 'Traveler_Nationality',\n",
    "         'Destination', 'Start date', 'End date', 'Duration (days)', 'Accommodation_Type', \n",
    "         'Accommodation_Cost', 'Transportation_Type', 'Transportation_Cost', 'Total_Cost', 'Cost_Category']]\n",
    "df.head()"
   ]
  },
  {
   "cell_type": "markdown",
   "id": "33e33022",
   "metadata": {},
   "source": [
    "# ANALYSIS"
   ]
  },
  {
   "cell_type": "markdown",
   "id": "5400e3b1",
   "metadata": {},
   "source": [
    "1. Total trips per destination"
   ]
  },
  {
   "cell_type": "code",
   "execution_count": 304,
   "id": "63a40f4b",
   "metadata": {},
   "outputs": [
    {
     "data": {
      "text/plain": [
       "Destination\n",
       "Paris, France                  7\n",
       "Tokyo, Japan                   7\n",
       "Paris                          7\n",
       "Bali                           7\n",
       "New York                       5\n",
       "Tokyo                          5\n",
       "Rome                           5\n",
       "Sydney                         5\n",
       "Bali, Indonesia                5\n",
       "Barcelona, Spain               4\n",
       "Cancun, Mexico                 4\n",
       "Rio de Janeiro, Brazil         4\n",
       "Bangkok                        4\n",
       "London                         4\n",
       "Rome, Italy                    4\n",
       "New York, USA                  3\n",
       "Sydney, Australia              3\n",
       "Sydney, Aus                    3\n",
       "Bangkok, Thailand              3\n",
       "London, UK                     3\n",
       "Vancouver, Canada              2\n",
       "Cape Town                      2\n",
       "Unknown                        2\n",
       "Dubai                          2\n",
       "New York City, USA             2\n",
       "Barcelona                      2\n",
       "Amsterdam, Netherlands         2\n",
       "Phuket, Thailand               1\n",
       "Thailand                       1\n",
       "Japan                          1\n",
       "Hawaii                         1\n",
       "Honolulu, Hawaii               1\n",
       "Edinburgh, Scotland            1\n",
       "Marrakech, Morocco             1\n",
       "Berlin, Germany                1\n",
       "Dubai, United Arab Emirates    1\n",
       "Spain                          1\n",
       "Italy                          1\n",
       "Mexico                         1\n",
       "Egypt                          1\n",
       "France                         1\n",
       "Australia                      1\n",
       "Brazil                         1\n",
       "Greece                         1\n",
       "Los Angeles, USA               1\n",
       "Seoul, South Korea             1\n",
       "Sydney, AUS                    1\n",
       "Canada                         1\n",
       "Cape Town, SA                  1\n",
       "Bangkok, Thai                  1\n",
       "Phuket, Thai                   1\n",
       "Seoul                          1\n",
       "Rio de Janeiro                 1\n",
       "Amsterdam                      1\n",
       "Phuket                         1\n",
       "Santorini                      1\n",
       "Phnom Penh                     1\n",
       "Athens, Greece                 1\n",
       "Cape Town, South Africa        1\n",
       "Auckland, New Zealand          1\n",
       "Name: count, dtype: int64"
      ]
     },
     "execution_count": 304,
     "metadata": {},
     "output_type": "execute_result"
    }
   ],
   "source": [
    "df['Destination'].value_counts()"
   ]
  },
  {
   "cell_type": "markdown",
   "id": "d4de5bd6",
   "metadata": {},
   "source": [
    "2. Average duration by destination"
   ]
  },
  {
   "cell_type": "code",
   "execution_count": 305,
   "id": "89ee5a0b",
   "metadata": {},
   "outputs": [
    {
     "data": {
      "text/plain": [
       "Destination\n",
       "Amsterdam                       7.000000\n",
       "Amsterdam, Netherlands          7.500000\n",
       "Athens, Greece                 10.000000\n",
       "Auckland, New Zealand           7.000000\n",
       "Australia                      13.000000\n",
       "Bali                            8.714286\n",
       "Bali, Indonesia                 7.800000\n",
       "Bangkok                         7.750000\n",
       "Bangkok, Thai                   7.000000\n",
       "Bangkok, Thailand               7.000000\n",
       "Barcelona                       7.500000\n",
       "Barcelona, Spain                7.250000\n",
       "Berlin, Germany                 9.000000\n",
       "Brazil                          9.000000\n",
       "Canada                          7.000000\n",
       "Cancun, Mexico                  7.250000\n",
       "Cape Town                       8.500000\n",
       "Cape Town, SA                   9.000000\n",
       "Cape Town, South Africa         9.000000\n",
       "Dubai                           6.500000\n",
       "Dubai, United Arab Emirates     7.000000\n",
       "Edinburgh, Scotland             7.000000\n",
       "Egypt                           7.000000\n",
       "France                          9.000000\n",
       "Greece                          8.000000\n",
       "Hawaii                          9.000000\n",
       "Honolulu, Hawaii                8.000000\n",
       "Italy                           6.000000\n",
       "Japan                           8.000000\n",
       "London                          6.750000\n",
       "London, UK                      7.333333\n",
       "Los Angeles, USA                7.000000\n",
       "Marrakech, Morocco              7.000000\n",
       "Mexico                         10.000000\n",
       "New York                        5.600000\n",
       "New York City, USA              7.000000\n",
       "New York, USA                   9.333333\n",
       "Paris                           6.142857\n",
       "Paris, France                   6.714286\n",
       "Phnom Penh                      5.000000\n",
       "Phuket                          7.000000\n",
       "Phuket, Thai                    7.000000\n",
       "Phuket, Thailand                5.000000\n",
       "Rio de Janeiro                  7.000000\n",
       "Rio de Janeiro, Brazil          8.000000\n",
       "Rome                            7.600000\n",
       "Rome, Italy                     7.250000\n",
       "Santorini                       7.000000\n",
       "Seoul                          10.000000\n",
       "Seoul, South Korea              8.000000\n",
       "Spain                           8.000000\n",
       "Sydney                          8.000000\n",
       "Sydney, AUS                     7.000000\n",
       "Sydney, Aus                     9.333333\n",
       "Sydney, Australia               7.666667\n",
       "Thailand                        7.000000\n",
       "Tokyo                           9.000000\n",
       "Tokyo, Japan                    8.142857\n",
       "Unknown                         7.000000\n",
       "Vancouver, Canada               6.500000\n",
       "Name: Duration (days), dtype: float64"
      ]
     },
     "execution_count": 305,
     "metadata": {},
     "output_type": "execute_result"
    }
   ],
   "source": [
    "df.groupby('Destination')['Duration (days)'].mean()"
   ]
  },
  {
   "cell_type": "markdown",
   "id": "3185b428",
   "metadata": {},
   "source": [
    "3. Gender distribution of travelers"
   ]
  },
  {
   "cell_type": "code",
   "execution_count": 306,
   "id": "f1ac5074",
   "metadata": {},
   "outputs": [
    {
     "data": {
      "text/plain": [
       "Traveler_Gender\n",
       "Female    72\n",
       "Male      67\n",
       "Name: count, dtype: int64"
      ]
     },
     "execution_count": 306,
     "metadata": {},
     "output_type": "execute_result"
    }
   ],
   "source": [
    "df['Traveler_Gender'].value_counts()"
   ]
  },
  {
   "cell_type": "markdown",
   "id": "5a49ca6d",
   "metadata": {},
   "source": [
    "4. Most popular accommodation type"
   ]
  },
  {
   "cell_type": "code",
   "execution_count": 307,
   "id": "24bbb5f0",
   "metadata": {},
   "outputs": [
    {
     "data": {
      "text/plain": [
       "'Hotel'"
      ]
     },
     "execution_count": 307,
     "metadata": {},
     "output_type": "execute_result"
    }
   ],
   "source": [
    "df['Accommodation_Type'].value_counts().idxmax()"
   ]
  },
  {
   "cell_type": "markdown",
   "id": "d668ee0c",
   "metadata": {},
   "source": [
    "5. Average cost per category"
   ]
  },
  {
   "cell_type": "code",
   "execution_count": 308,
   "id": "a5d022b1",
   "metadata": {},
   "outputs": [
    {
     "name": "stderr",
     "output_type": "stream",
     "text": [
      "C:\\Users\\Lenovo\\AppData\\Local\\Temp\\ipykernel_15440\\43638586.py:1: FutureWarning: The default of observed=False is deprecated and will be changed to True in a future version of pandas. Pass observed=False to retain current behavior or observed=True to adopt the future default and silence this warning.\n",
      "  df.groupby('Cost_Category')[['Accommodation_Cost', 'Transportation_Cost']].mean()\n"
     ]
    },
    {
     "data": {
      "text/html": [
       "<div>\n",
       "<style scoped>\n",
       "    .dataframe tbody tr th:only-of-type {\n",
       "        vertical-align: middle;\n",
       "    }\n",
       "\n",
       "    .dataframe tbody tr th {\n",
       "        vertical-align: top;\n",
       "    }\n",
       "\n",
       "    .dataframe thead th {\n",
       "        text-align: right;\n",
       "    }\n",
       "</style>\n",
       "<table border=\"1\" class=\"dataframe\">\n",
       "  <thead>\n",
       "    <tr style=\"text-align: right;\">\n",
       "      <th></th>\n",
       "      <th>Accommodation_Cost</th>\n",
       "      <th>Transportation_Cost</th>\n",
       "    </tr>\n",
       "    <tr>\n",
       "      <th>Cost_Category</th>\n",
       "      <th></th>\n",
       "      <th></th>\n",
       "    </tr>\n",
       "  </thead>\n",
       "  <tbody>\n",
       "    <tr>\n",
       "      <th>Low</th>\n",
       "      <td>541.666667</td>\n",
       "      <td>307.511737</td>\n",
       "    </tr>\n",
       "    <tr>\n",
       "      <th>Medium</th>\n",
       "      <td>968.421053</td>\n",
       "      <td>589.473684</td>\n",
       "    </tr>\n",
       "    <tr>\n",
       "      <th>High</th>\n",
       "      <td>1683.406433</td>\n",
       "      <td>851.176798</td>\n",
       "    </tr>\n",
       "    <tr>\n",
       "      <th>Luxury</th>\n",
       "      <td>4433.333333</td>\n",
       "      <td>1958.333333</td>\n",
       "    </tr>\n",
       "  </tbody>\n",
       "</table>\n",
       "</div>"
      ],
      "text/plain": [
       "               Accommodation_Cost  Transportation_Cost\n",
       "Cost_Category                                         \n",
       "Low                    541.666667           307.511737\n",
       "Medium                 968.421053           589.473684\n",
       "High                  1683.406433           851.176798\n",
       "Luxury                4433.333333          1958.333333"
      ]
     },
     "execution_count": 308,
     "metadata": {},
     "output_type": "execute_result"
    }
   ],
   "source": [
    "df.groupby('Cost_Category')[['Accommodation_Cost', 'Transportation_Cost']].mean()"
   ]
  },
  {
   "cell_type": "markdown",
   "id": "f13aa4ea",
   "metadata": {},
   "source": [
    "6. Top 5 most expensive trips"
   ]
  },
  {
   "cell_type": "code",
   "execution_count": 309,
   "id": "be35afc0",
   "metadata": {},
   "outputs": [
    {
     "data": {
      "text/html": [
       "<div>\n",
       "<style scoped>\n",
       "    .dataframe tbody tr th:only-of-type {\n",
       "        vertical-align: middle;\n",
       "    }\n",
       "\n",
       "    .dataframe tbody tr th {\n",
       "        vertical-align: top;\n",
       "    }\n",
       "\n",
       "    .dataframe thead th {\n",
       "        text-align: right;\n",
       "    }\n",
       "</style>\n",
       "<table border=\"1\" class=\"dataframe\">\n",
       "  <thead>\n",
       "    <tr style=\"text-align: right;\">\n",
       "      <th></th>\n",
       "      <th>Trip_ID</th>\n",
       "      <th>Traveler_Name</th>\n",
       "      <th>Traveler_Gender</th>\n",
       "      <th>Traveler_Age</th>\n",
       "      <th>Traveler_Nationality</th>\n",
       "      <th>Destination</th>\n",
       "      <th>Start date</th>\n",
       "      <th>End date</th>\n",
       "      <th>Duration (days)</th>\n",
       "      <th>Accommodation_Type</th>\n",
       "      <th>Accommodation_Cost</th>\n",
       "      <th>Transportation_Type</th>\n",
       "      <th>Transportation_Cost</th>\n",
       "      <th>Total_Cost</th>\n",
       "      <th>Cost_Category</th>\n",
       "    </tr>\n",
       "  </thead>\n",
       "  <tbody>\n",
       "    <tr>\n",
       "      <th>133</th>\n",
       "      <td>134</td>\n",
       "      <td>Emily Davis</td>\n",
       "      <td>Female</td>\n",
       "      <td>27</td>\n",
       "      <td>American</td>\n",
       "      <td>New York City, USA</td>\n",
       "      <td>7/15/2023</td>\n",
       "      <td>7/22/2023</td>\n",
       "      <td>7.0</td>\n",
       "      <td>Hotel</td>\n",
       "      <td>8000.0</td>\n",
       "      <td>Airplane</td>\n",
       "      <td>2500.0</td>\n",
       "      <td>10500.0</td>\n",
       "      <td>NaN</td>\n",
       "    </tr>\n",
       "    <tr>\n",
       "      <th>138</th>\n",
       "      <td>139</td>\n",
       "      <td>William Brown</td>\n",
       "      <td>Male</td>\n",
       "      <td>39</td>\n",
       "      <td>New Zealander</td>\n",
       "      <td>Auckland, New Zealand</td>\n",
       "      <td>10/1/2023</td>\n",
       "      <td>10/8/2023</td>\n",
       "      <td>7.0</td>\n",
       "      <td>Hotel</td>\n",
       "      <td>7000.0</td>\n",
       "      <td>Train</td>\n",
       "      <td>2500.0</td>\n",
       "      <td>9500.0</td>\n",
       "      <td>Luxury</td>\n",
       "    </tr>\n",
       "    <tr>\n",
       "      <th>131</th>\n",
       "      <td>132</td>\n",
       "      <td>Sarah Lee</td>\n",
       "      <td>Female</td>\n",
       "      <td>31</td>\n",
       "      <td>Australian</td>\n",
       "      <td>Sydney, Australia</td>\n",
       "      <td>6/15/2023</td>\n",
       "      <td>6/21/2023</td>\n",
       "      <td>6.0</td>\n",
       "      <td>Hotel</td>\n",
       "      <td>6000.0</td>\n",
       "      <td>Airplane</td>\n",
       "      <td>3000.0</td>\n",
       "      <td>9000.0</td>\n",
       "      <td>Luxury</td>\n",
       "    </tr>\n",
       "    <tr>\n",
       "      <th>129</th>\n",
       "      <td>130</td>\n",
       "      <td>Jane Smith</td>\n",
       "      <td>Female</td>\n",
       "      <td>28</td>\n",
       "      <td>British</td>\n",
       "      <td>Tokyo, Japan</td>\n",
       "      <td>5/15/2023</td>\n",
       "      <td>5/22/2023</td>\n",
       "      <td>7.0</td>\n",
       "      <td>Airbnb</td>\n",
       "      <td>7000.0</td>\n",
       "      <td>Train</td>\n",
       "      <td>1500.0</td>\n",
       "      <td>8500.0</td>\n",
       "      <td>Luxury</td>\n",
       "    </tr>\n",
       "    <tr>\n",
       "      <th>137</th>\n",
       "      <td>138</td>\n",
       "      <td>Sofia Rodriguez</td>\n",
       "      <td>Female</td>\n",
       "      <td>25</td>\n",
       "      <td>Spanish</td>\n",
       "      <td>Barcelona, Spain</td>\n",
       "      <td>9/15/2023</td>\n",
       "      <td>9/22/2023</td>\n",
       "      <td>7.0</td>\n",
       "      <td>Airbnb</td>\n",
       "      <td>6000.0</td>\n",
       "      <td>Airplane</td>\n",
       "      <td>2500.0</td>\n",
       "      <td>8500.0</td>\n",
       "      <td>Luxury</td>\n",
       "    </tr>\n",
       "  </tbody>\n",
       "</table>\n",
       "</div>"
      ],
      "text/plain": [
       "     Trip_ID    Traveler_Name Traveler_Gender  Traveler_Age  \\\n",
       "133      134      Emily Davis          Female            27   \n",
       "138      139    William Brown            Male            39   \n",
       "131      132        Sarah Lee          Female            31   \n",
       "129      130       Jane Smith          Female            28   \n",
       "137      138  Sofia Rodriguez          Female            25   \n",
       "\n",
       "    Traveler_Nationality            Destination Start date   End date  \\\n",
       "133             American     New York City, USA  7/15/2023  7/22/2023   \n",
       "138        New Zealander  Auckland, New Zealand  10/1/2023  10/8/2023   \n",
       "131           Australian      Sydney, Australia  6/15/2023  6/21/2023   \n",
       "129              British           Tokyo, Japan  5/15/2023  5/22/2023   \n",
       "137              Spanish       Barcelona, Spain  9/15/2023  9/22/2023   \n",
       "\n",
       "     Duration (days) Accommodation_Type  Accommodation_Cost  \\\n",
       "133              7.0              Hotel              8000.0   \n",
       "138              7.0              Hotel              7000.0   \n",
       "131              6.0              Hotel              6000.0   \n",
       "129              7.0             Airbnb              7000.0   \n",
       "137              7.0             Airbnb              6000.0   \n",
       "\n",
       "    Transportation_Type  Transportation_Cost  Total_Cost Cost_Category  \n",
       "133            Airplane               2500.0     10500.0           NaN  \n",
       "138               Train               2500.0      9500.0        Luxury  \n",
       "131            Airplane               3000.0      9000.0        Luxury  \n",
       "129               Train               1500.0      8500.0        Luxury  \n",
       "137            Airplane               2500.0      8500.0        Luxury  "
      ]
     },
     "execution_count": 309,
     "metadata": {},
     "output_type": "execute_result"
    }
   ],
   "source": [
    "df.sort_values(by='Total_Cost', ascending=False).head()"
   ]
  },
  {
   "cell_type": "markdown",
   "id": "ea50cbba",
   "metadata": {},
   "source": [
    "7. Number of trips by transportation type"
   ]
  },
  {
   "cell_type": "code",
   "execution_count": 310,
   "id": "ea856cdc",
   "metadata": {},
   "outputs": [
    {
     "data": {
      "text/plain": [
       "Transportation_Type\n",
       "Plane         57\n",
       "Train         37\n",
       "Flight        13\n",
       "Car rental    13\n",
       "Bus            6\n",
       "Airplane       5\n",
       "Car            3\n",
       "Subway         1\n",
       "Ferry          1\n",
       "Name: count, dtype: int64"
      ]
     },
     "execution_count": 310,
     "metadata": {},
     "output_type": "execute_result"
    }
   ],
   "source": [
    "df['Transportation_Type'].value_counts()"
   ]
  },
  {
   "cell_type": "markdown",
   "id": "ef01ea62",
   "metadata": {},
   "source": [
    "8. Trips with cost less than 1000"
   ]
  },
  {
   "cell_type": "code",
   "execution_count": 311,
   "id": "a1a1bc62",
   "metadata": {},
   "outputs": [
    {
     "data": {
      "text/html": [
       "<div>\n",
       "<style scoped>\n",
       "    .dataframe tbody tr th:only-of-type {\n",
       "        vertical-align: middle;\n",
       "    }\n",
       "\n",
       "    .dataframe tbody tr th {\n",
       "        vertical-align: top;\n",
       "    }\n",
       "\n",
       "    .dataframe thead th {\n",
       "        text-align: right;\n",
       "    }\n",
       "</style>\n",
       "<table border=\"1\" class=\"dataframe\">\n",
       "  <thead>\n",
       "    <tr style=\"text-align: right;\">\n",
       "      <th></th>\n",
       "      <th>Trip_ID</th>\n",
       "      <th>Traveler_Name</th>\n",
       "      <th>Traveler_Gender</th>\n",
       "      <th>Traveler_Age</th>\n",
       "      <th>Traveler_Nationality</th>\n",
       "      <th>Destination</th>\n",
       "      <th>Start date</th>\n",
       "      <th>End date</th>\n",
       "      <th>Duration (days)</th>\n",
       "      <th>Accommodation_Type</th>\n",
       "      <th>Accommodation_Cost</th>\n",
       "      <th>Transportation_Type</th>\n",
       "      <th>Transportation_Cost</th>\n",
       "      <th>Total_Cost</th>\n",
       "      <th>Cost_Category</th>\n",
       "    </tr>\n",
       "  </thead>\n",
       "  <tbody>\n",
       "    <tr>\n",
       "      <th>4</th>\n",
       "      <td>5</td>\n",
       "      <td>Kim Nguyen</td>\n",
       "      <td>Female</td>\n",
       "      <td>26</td>\n",
       "      <td>Vietnamese</td>\n",
       "      <td>Tokyo, Japan</td>\n",
       "      <td>9/10/2023</td>\n",
       "      <td>9/17/2023</td>\n",
       "      <td>7.0</td>\n",
       "      <td>Airbnb</td>\n",
       "      <td>700.0</td>\n",
       "      <td>Train</td>\n",
       "      <td>200.000000</td>\n",
       "      <td>900.000000</td>\n",
       "      <td>Low</td>\n",
       "    </tr>\n",
       "    <tr>\n",
       "      <th>11</th>\n",
       "      <td>12</td>\n",
       "      <td>Carlos Garcia</td>\n",
       "      <td>Male</td>\n",
       "      <td>36</td>\n",
       "      <td>Spanish</td>\n",
       "      <td>Barcelona, Spain</td>\n",
       "      <td>5/15/2024</td>\n",
       "      <td>5/22/2024</td>\n",
       "      <td>7.0</td>\n",
       "      <td>Airbnb</td>\n",
       "      <td>800.0</td>\n",
       "      <td>Train</td>\n",
       "      <td>100.000000</td>\n",
       "      <td>900.000000</td>\n",
       "      <td>Low</td>\n",
       "    </tr>\n",
       "    <tr>\n",
       "      <th>39</th>\n",
       "      <td>40</td>\n",
       "      <td>Adam Lee</td>\n",
       "      <td>Male</td>\n",
       "      <td>33</td>\n",
       "      <td>Canadian</td>\n",
       "      <td>Sydney, Australia</td>\n",
       "      <td>1/2/2023</td>\n",
       "      <td>1/9/2023</td>\n",
       "      <td>7.0</td>\n",
       "      <td>Airbnb</td>\n",
       "      <td>800.0</td>\n",
       "      <td>Train</td>\n",
       "      <td>150.000000</td>\n",
       "      <td>950.000000</td>\n",
       "      <td>Low</td>\n",
       "    </tr>\n",
       "    <tr>\n",
       "      <th>46</th>\n",
       "      <td>47</td>\n",
       "      <td>Nina Patel</td>\n",
       "      <td>Female</td>\n",
       "      <td>29</td>\n",
       "      <td>Indian</td>\n",
       "      <td>Bangkok, Thailand</td>\n",
       "      <td>5/1/2023</td>\n",
       "      <td>5/7/2023</td>\n",
       "      <td>6.0</td>\n",
       "      <td>Airbnb</td>\n",
       "      <td>500.0</td>\n",
       "      <td>Bus</td>\n",
       "      <td>50.000000</td>\n",
       "      <td>550.000000</td>\n",
       "      <td>Low</td>\n",
       "    </tr>\n",
       "    <tr>\n",
       "      <th>47</th>\n",
       "      <td>48</td>\n",
       "      <td>Kevin Kim</td>\n",
       "      <td>Male</td>\n",
       "      <td>24</td>\n",
       "      <td>Korean</td>\n",
       "      <td>Vancouver, Canada</td>\n",
       "      <td>7/10/2022</td>\n",
       "      <td>7/17/2022</td>\n",
       "      <td>7.0</td>\n",
       "      <td>Hostel</td>\n",
       "      <td>400.0</td>\n",
       "      <td>Train</td>\n",
       "      <td>150.000000</td>\n",
       "      <td>550.000000</td>\n",
       "      <td>Low</td>\n",
       "    </tr>\n",
       "    <tr>\n",
       "      <th>61</th>\n",
       "      <td>62</td>\n",
       "      <td>Kenji Nakamura</td>\n",
       "      <td>Male</td>\n",
       "      <td>28</td>\n",
       "      <td>Japanese</td>\n",
       "      <td>Tokyo</td>\n",
       "      <td>9/3/2022</td>\n",
       "      <td>9/10/2022</td>\n",
       "      <td>7.0</td>\n",
       "      <td>Hostel</td>\n",
       "      <td>400.0</td>\n",
       "      <td>Train</td>\n",
       "      <td>300.000000</td>\n",
       "      <td>700.000000</td>\n",
       "      <td>Low</td>\n",
       "    </tr>\n",
       "    <tr>\n",
       "      <th>82</th>\n",
       "      <td>83</td>\n",
       "      <td>James Kim</td>\n",
       "      <td>Male</td>\n",
       "      <td>41</td>\n",
       "      <td>American</td>\n",
       "      <td>Rome, Italy</td>\n",
       "      <td>4/15/2025</td>\n",
       "      <td>4/22/2025</td>\n",
       "      <td>7.0</td>\n",
       "      <td>Hotel</td>\n",
       "      <td>100.0</td>\n",
       "      <td>NaN</td>\n",
       "      <td>840.140845</td>\n",
       "      <td>940.140845</td>\n",
       "      <td>Low</td>\n",
       "    </tr>\n",
       "    <tr>\n",
       "      <th>115</th>\n",
       "      <td>116</td>\n",
       "      <td>Alex Ng</td>\n",
       "      <td>Male</td>\n",
       "      <td>33</td>\n",
       "      <td>Cambodia</td>\n",
       "      <td>Phnom Penh</td>\n",
       "      <td>9/10/2022</td>\n",
       "      <td>9/15/2022</td>\n",
       "      <td>5.0</td>\n",
       "      <td>Hostel</td>\n",
       "      <td>200.0</td>\n",
       "      <td>Plane</td>\n",
       "      <td>500.000000</td>\n",
       "      <td>700.000000</td>\n",
       "      <td>Low</td>\n",
       "    </tr>\n",
       "  </tbody>\n",
       "</table>\n",
       "</div>"
      ],
      "text/plain": [
       "     Trip_ID   Traveler_Name Traveler_Gender  Traveler_Age  \\\n",
       "4          5      Kim Nguyen          Female            26   \n",
       "11        12   Carlos Garcia            Male            36   \n",
       "39        40        Adam Lee            Male            33   \n",
       "46        47      Nina Patel          Female            29   \n",
       "47        48       Kevin Kim            Male            24   \n",
       "61        62  Kenji Nakamura            Male            28   \n",
       "82        83       James Kim            Male            41   \n",
       "115      116         Alex Ng            Male            33   \n",
       "\n",
       "    Traveler_Nationality        Destination Start date   End date  \\\n",
       "4             Vietnamese       Tokyo, Japan  9/10/2023  9/17/2023   \n",
       "11               Spanish   Barcelona, Spain  5/15/2024  5/22/2024   \n",
       "39              Canadian  Sydney, Australia   1/2/2023   1/9/2023   \n",
       "46                Indian  Bangkok, Thailand   5/1/2023   5/7/2023   \n",
       "47                Korean  Vancouver, Canada  7/10/2022  7/17/2022   \n",
       "61              Japanese              Tokyo   9/3/2022  9/10/2022   \n",
       "82              American        Rome, Italy  4/15/2025  4/22/2025   \n",
       "115             Cambodia         Phnom Penh  9/10/2022  9/15/2022   \n",
       "\n",
       "     Duration (days) Accommodation_Type  Accommodation_Cost  \\\n",
       "4                7.0             Airbnb               700.0   \n",
       "11               7.0             Airbnb               800.0   \n",
       "39               7.0             Airbnb               800.0   \n",
       "46               6.0             Airbnb               500.0   \n",
       "47               7.0             Hostel               400.0   \n",
       "61               7.0             Hostel               400.0   \n",
       "82               7.0              Hotel               100.0   \n",
       "115              5.0             Hostel               200.0   \n",
       "\n",
       "    Transportation_Type  Transportation_Cost  Total_Cost Cost_Category  \n",
       "4                 Train           200.000000  900.000000           Low  \n",
       "11                Train           100.000000  900.000000           Low  \n",
       "39                Train           150.000000  950.000000           Low  \n",
       "46                  Bus            50.000000  550.000000           Low  \n",
       "47                Train           150.000000  550.000000           Low  \n",
       "61                Train           300.000000  700.000000           Low  \n",
       "82                  NaN           840.140845  940.140845           Low  \n",
       "115               Plane           500.000000  700.000000           Low  "
      ]
     },
     "execution_count": 311,
     "metadata": {},
     "output_type": "execute_result"
    }
   ],
   "source": [
    "df[df['Total_Cost'] < 1000]"
   ]
  },
  {
   "cell_type": "markdown",
   "id": "6f8439f0",
   "metadata": {},
   "source": [
    "9. Correlation between age and total cost"
   ]
  },
  {
   "cell_type": "code",
   "execution_count": 312,
   "id": "dfcfb44a",
   "metadata": {},
   "outputs": [
    {
     "data": {
      "text/html": [
       "<div>\n",
       "<style scoped>\n",
       "    .dataframe tbody tr th:only-of-type {\n",
       "        vertical-align: middle;\n",
       "    }\n",
       "\n",
       "    .dataframe tbody tr th {\n",
       "        vertical-align: top;\n",
       "    }\n",
       "\n",
       "    .dataframe thead th {\n",
       "        text-align: right;\n",
       "    }\n",
       "</style>\n",
       "<table border=\"1\" class=\"dataframe\">\n",
       "  <thead>\n",
       "    <tr style=\"text-align: right;\">\n",
       "      <th></th>\n",
       "      <th>Traveler_Age</th>\n",
       "      <th>Total_Cost</th>\n",
       "    </tr>\n",
       "  </thead>\n",
       "  <tbody>\n",
       "    <tr>\n",
       "      <th>Traveler_Age</th>\n",
       "      <td>1.00000</td>\n",
       "      <td>-0.00427</td>\n",
       "    </tr>\n",
       "    <tr>\n",
       "      <th>Total_Cost</th>\n",
       "      <td>-0.00427</td>\n",
       "      <td>1.00000</td>\n",
       "    </tr>\n",
       "  </tbody>\n",
       "</table>\n",
       "</div>"
      ],
      "text/plain": [
       "              Traveler_Age  Total_Cost\n",
       "Traveler_Age       1.00000    -0.00427\n",
       "Total_Cost        -0.00427     1.00000"
      ]
     },
     "execution_count": 312,
     "metadata": {},
     "output_type": "execute_result"
    }
   ],
   "source": [
    "df[['Traveler_Age', 'Total_Cost']].corr()"
   ]
  },
  {
   "cell_type": "markdown",
   "id": "88578d01",
   "metadata": {},
   "source": [
    "10. Longest trip"
   ]
  },
  {
   "cell_type": "code",
   "execution_count": 313,
   "id": "3e20a511",
   "metadata": {},
   "outputs": [
    {
     "data": {
      "text/html": [
       "<div>\n",
       "<style scoped>\n",
       "    .dataframe tbody tr th:only-of-type {\n",
       "        vertical-align: middle;\n",
       "    }\n",
       "\n",
       "    .dataframe tbody tr th {\n",
       "        vertical-align: top;\n",
       "    }\n",
       "\n",
       "    .dataframe thead th {\n",
       "        text-align: right;\n",
       "    }\n",
       "</style>\n",
       "<table border=\"1\" class=\"dataframe\">\n",
       "  <thead>\n",
       "    <tr style=\"text-align: right;\">\n",
       "      <th></th>\n",
       "      <th>Trip_ID</th>\n",
       "      <th>Traveler_Name</th>\n",
       "      <th>Traveler_Gender</th>\n",
       "      <th>Traveler_Age</th>\n",
       "      <th>Traveler_Nationality</th>\n",
       "      <th>Destination</th>\n",
       "      <th>Start date</th>\n",
       "      <th>End date</th>\n",
       "      <th>Duration (days)</th>\n",
       "      <th>Accommodation_Type</th>\n",
       "      <th>Accommodation_Cost</th>\n",
       "      <th>Transportation_Type</th>\n",
       "      <th>Transportation_Cost</th>\n",
       "      <th>Total_Cost</th>\n",
       "      <th>Cost_Category</th>\n",
       "    </tr>\n",
       "  </thead>\n",
       "  <tbody>\n",
       "    <tr>\n",
       "      <th>3</th>\n",
       "      <td>4</td>\n",
       "      <td>Sarah Johnson</td>\n",
       "      <td>Female</td>\n",
       "      <td>29</td>\n",
       "      <td>British</td>\n",
       "      <td>New York, USA</td>\n",
       "      <td>8/15/2023</td>\n",
       "      <td>8/29/2023</td>\n",
       "      <td>14.0</td>\n",
       "      <td>Hotel</td>\n",
       "      <td>2000.0</td>\n",
       "      <td>Flight</td>\n",
       "      <td>1000.0</td>\n",
       "      <td>3000.0</td>\n",
       "      <td>High</td>\n",
       "    </tr>\n",
       "  </tbody>\n",
       "</table>\n",
       "</div>"
      ],
      "text/plain": [
       "   Trip_ID  Traveler_Name Traveler_Gender  Traveler_Age Traveler_Nationality  \\\n",
       "3        4  Sarah Johnson          Female            29              British   \n",
       "\n",
       "     Destination Start date   End date  Duration (days) Accommodation_Type  \\\n",
       "3  New York, USA  8/15/2023  8/29/2023             14.0              Hotel   \n",
       "\n",
       "   Accommodation_Cost Transportation_Type  Transportation_Cost  Total_Cost  \\\n",
       "3              2000.0              Flight               1000.0      3000.0   \n",
       "\n",
       "  Cost_Category  \n",
       "3          High  "
      ]
     },
     "execution_count": 313,
     "metadata": {},
     "output_type": "execute_result"
    }
   ],
   "source": [
    "df.sort_values(by='Duration (days)', ascending=False).head(1)"
   ]
  },
  {
   "cell_type": "markdown",
   "id": "ccbe84f7",
   "metadata": {},
   "source": [
    "# ANALYSIS USING PLOTS"
   ]
  },
  {
   "cell_type": "markdown",
   "id": "2e9942a2",
   "metadata": {},
   "source": [
    "1. Cost Category Count"
   ]
  },
  {
   "cell_type": "code",
   "execution_count": 314,
   "id": "0de28c8f",
   "metadata": {},
   "outputs": [
    {
     "data": {
      "image/png": "[encoded data removed]",
      "text/plain": [
       "<Figure size 600x400 with 1 Axes>"
      ]
     },
     "metadata": {},
     "output_type": "display_data"
    }
   ],
   "source": [
    "plt.figure(figsize=(6,4))\n",
    "sns.countplot(data=df, x='Cost_Category', order=['Low', 'Medium', 'High', 'Luxury'])\n",
    "plt.title(\"Trips by Cost Category\")\n",
    "plt.show()"
   ]
  },
  {
   "cell_type": "markdown",
   "id": "2a114140",
   "metadata": {},
   "source": [
    "Bbservations:\n",
    "- \"High\" cost category trips are the most frequent.\n",
    "- \"Low\" and \"Luxury\" cost category trips are the least frequent."
   ]
  },
  {
   "cell_type": "markdown",
   "id": "9e71b2df",
   "metadata": {},
   "source": [
    "2. Distribution of Total Cost"
   ]
  },
  {
   "cell_type": "code",
   "execution_count": 343,
   "id": "23537354",
   "metadata": {},
   "outputs": [
    {
     "data": {
      "image/png": "[encoded data removed]",
      "text/plain": [
       "<Figure size 600x400 with 1 Axes>"
      ]
     },
     "metadata": {},
     "output_type": "display_data"
    }
   ],
   "source": [
    "plt.figure(figsize=(6,4))\n",
    "sns.histplot(df['Total_Cost'], bins=20)\n",
    "plt.title(\"Distribution of Total Trip Cost\")\n",
    "plt.show()"
   ]
  },
  {
   "cell_type": "markdown",
   "id": "c16bc7d4",
   "metadata": {},
   "source": [
    "Observations:\n",
    "- The majority of trip costs fall within a lower range, specifically around 2000-2500.\n",
    "- The distribution contains few outliers at higher costs"
   ]
  },
  {
   "cell_type": "markdown",
   "id": "e2b1bb6f",
   "metadata": {},
   "source": [
    "3. Gender-wise Trip Count"
   ]
  },
  {
   "cell_type": "code",
   "execution_count": 337,
   "id": "83e096f8",
   "metadata": {},
   "outputs": [
    {
     "data": {
      "image/png": "[encoded data removed]",
      "text/plain": [
       "<Figure size 400x400 with 1 Axes>"
      ]
     },
     "metadata": {},
     "output_type": "display_data"
    }
   ],
   "source": [
    "gender_counts = df['Traveler_Gender'].value_counts()\n",
    "plt.figure(figsize=(4, 4))\n",
    "plt.pie(gender_counts, labels=gender_counts.index, autopct='%1.1f%%', startangle=140, colors=sns.color_palette('pastel'))\n",
    "plt.title(\"Gender Distribution of Travelers\")\n",
    "plt.tight_layout()\n",
    "plt.show()"
   ]
  },
  {
   "cell_type": "markdown",
   "id": "8424a0bd",
   "metadata": {},
   "source": [
    "Observations: The percentages for male and female travelers are very close, indicating a fairly even split."
   ]
  },
  {
   "cell_type": "markdown",
   "id": "349ebd9f",
   "metadata": {},
   "source": [
    "4. Average Cost by Accommodation Type"
   ]
  },
  {
   "cell_type": "code",
   "execution_count": 350,
   "id": "b1c74158",
   "metadata": {},
   "outputs": [
    {
     "name": "stderr",
     "output_type": "stream",
     "text": [
      "C:\\Users\\Lenovo\\AppData\\Local\\Temp\\ipykernel_15440\\4268194594.py:2: FutureWarning: \n",
      "\n",
      "`shade` is now deprecated in favor of `fill`; setting `fill=True`.\n",
      "This will become an error in seaborn v0.14.0; please update your code.\n",
      "\n",
      "  sns.kdeplot(df['Accommodation_Cost'], shade=True, color='purple')\n"
     ]
    },
    {
     "data": {
      "image/png": "[encoded data removed]",
      "text/plain": [
       "<Figure size 600x400 with 1 Axes>"
      ]
     },
     "metadata": {},
     "output_type": "display_data"
    }
   ],
   "source": [
    "plt.figure(figsize=(6, 4))\n",
    "sns.kdeplot(df['Accommodation_Cost'], shade=True, color='purple')\n",
    "plt.title(\"KDE Plot for Accommodation Cost\")\n",
    "plt.xlabel(\"Accommodation Cost\")\n",
    "plt.ylabel(\"Density\")\n",
    "plt.tight_layout()\n",
    "plt.show()"
   ]
  },
  {
   "cell_type": "markdown",
   "id": "c0b82317",
   "metadata": {},
   "source": [
    "Observations:\n",
    "- The most frequent accommodation cost is around 1500 to 2000.\n",
    "- Costs above 4000 are quite rare."
   ]
  },
  {
   "cell_type": "markdown",
   "id": "c662c481",
   "metadata": {},
   "source": [
    "5. Transportation Type Usage"
   ]
  },
  {
   "cell_type": "code",
   "execution_count": 318,
   "id": "7de17a97",
   "metadata": {},
   "outputs": [
    {
     "data": {
      "image/png": "[encoded data removed]",
      "text/plain": [
       "<Figure size 800x400 with 1 Axes>"
      ]
     },
     "metadata": {},
     "output_type": "display_data"
    }
   ],
   "source": [
    "plt.figure(figsize=(8,4))\n",
    "sns.countplot(data=df, x='Transportation_Type')\n",
    "plt.title(\"Transportation Method Usage\")\n",
    "plt.show()"
   ]
  },
  {
   "cell_type": "markdown",
   "id": "a16093f7",
   "metadata": {},
   "source": [
    "Observations:\n",
    "- Planes,trains and flights are the most frequently used transportation method. \n",
    "- Other transportation types are used very rarely.\n"
   ]
  },
  {
   "cell_type": "markdown",
   "id": "b1d57994",
   "metadata": {},
   "source": [
    "6. Age vs Total Cost"
   ]
  },
  {
   "cell_type": "code",
   "execution_count": 319,
   "id": "945842ab",
   "metadata": {},
   "outputs": [
    {
     "data": {
      "image/png": "[encoded data removed]",
      "text/plain": [
       "<Figure size 600x500 with 1 Axes>"
      ]
     },
     "metadata": {},
     "output_type": "display_data"
    }
   ],
   "source": [
    "plt.figure(figsize=(6,5))\n",
    "sns.scatterplot(data=df, x='Traveler_Age', y='Total_Cost')\n",
    "plt.title(\"Traveler Age vs Trip Cost\")\n",
    "plt.show()"
   ]
  },
  {
   "cell_type": "markdown",
   "id": "8576a51b",
   "metadata": {},
   "source": [
    "Observations:\n",
    "- A significant number of trips, across various ages, fall within the lower total cost range (below approximately 3000-4000)."
   ]
  },
  {
   "cell_type": "markdown",
   "id": "1026c6a8",
   "metadata": {},
   "source": [
    "7. Correlation between Traveler_Age, Accommodation_Cost, Transportation_Cost, Total_Cost"
   ]
  },
  {
   "cell_type": "code",
   "execution_count": 345,
   "id": "6de0877c",
   "metadata": {},
   "outputs": [
    {
     "data": {
      "image/png": "[encoded data removed]",
      "text/plain": [
       "<Figure size 600x500 with 2 Axes>"
      ]
     },
     "metadata": {},
     "output_type": "display_data"
    }
   ],
   "source": [
    "plt.figure(figsize=(6,5))\n",
    "sns.heatmap(df[['Traveler_Age', 'Accommodation_Cost', 'Transportation_Cost', 'Total_Cost']].corr(), annot=True, cmap='YlGnBu')\n",
    "plt.title(\"Correlation Heatmap\")\n",
    "plt.show()"
   ]
  },
  {
   "cell_type": "markdown",
   "id": "93e955b1",
   "metadata": {},
   "source": [
    "Observations:\n",
    "- Total Cost is strongly driven by Accommodation and Transportation Costs.\n",
    "- Traveler Age shows no significant correlation with any trip costs."
   ]
  },
  {
   "cell_type": "markdown",
   "id": "7d993ed1",
   "metadata": {},
   "source": [
    "8. Boxplot of Total Cost by Gender"
   ]
  },
  {
   "cell_type": "code",
   "execution_count": 321,
   "id": "6e0db8af",
   "metadata": {},
   "outputs": [
    {
     "data": {
      "image/png": "[encoded data removed]",
      "text/plain": [
       "<Figure size 600x500 with 1 Axes>"
      ]
     },
     "metadata": {},
     "output_type": "display_data"
    }
   ],
   "source": [
    "plt.figure(figsize=(6,5))\n",
    "sns.boxplot(data=df, x='Traveler_Gender', y='Total_Cost')\n",
    "plt.title(\"Total Trip Cost by Gender\")\n",
    "plt.show()"
   ]
  },
  {
   "cell_type": "markdown",
   "id": "667ae40d",
   "metadata": {},
   "source": [
    "Observations:\n",
    "- The median total trip cost for both male and female travelers appears to be quite similar, likely around 2000-2500.\n",
    "- Female travelers show a wider spread in their total trip costs and have more high-cost outliers compared to male travelers."
   ]
  },
  {
   "cell_type": "markdown",
   "id": "82961560",
   "metadata": {},
   "source": [
    "9. Total Trips per Nationality"
   ]
  },
  {
   "cell_type": "code",
   "execution_count": 325,
   "id": "d0763b48",
   "metadata": {},
   "outputs": [
    {
     "data": {
      "image/png": "[encoded data removed]",
      "text/plain": [
       "<Figure size 1200x600 with 1 Axes>"
      ]
     },
     "metadata": {},
     "output_type": "display_data"
    }
   ],
   "source": [
    "plt.figure(figsize=(12,6))\n",
    "sns.countplot(data=df, x='Traveler_Nationality', order=df['Traveler_Nationality'].value_counts().index)\n",
    "plt.title(\"Trips per Nationality\")\n",
    "plt.xticks(rotation=90)\n",
    "plt.show()"
   ]
  },
  {
   "cell_type": "markdown",
   "id": "bc18d390",
   "metadata": {},
   "source": [
    "Observations:\n",
    "- American travelers clearly dominate the dataset, taking the highest number of trips "
   ]
  },
  {
   "cell_type": "markdown",
   "id": "d37983e3",
   "metadata": {},
   "source": [
    "10. Total Cost by Destination"
   ]
  },
  {
   "cell_type": "code",
   "execution_count": 326,
   "id": "a21ec1bf",
   "metadata": {},
   "outputs": [
    {
     "data": {
      "image/png": "[encoded data removed]",
      "text/plain": [
       "<Figure size 1200x500 with 1 Axes>"
      ]
     },
     "metadata": {},
     "output_type": "display_data"
    }
   ],
   "source": [
    "plt.figure(figsize=(12,5))\n",
    "sns.barplot(data=df, x='Destination', y='Total_Cost')\n",
    "plt.title(\"Average Total Cost by Destination\")\n",
    "plt.xticks(rotation=90)\n",
    "plt.show()"
   ]
  },
  {
   "cell_type": "markdown",
   "id": "89295ed7",
   "metadata": {},
   "source": [
    "Observations:\n",
    "- Auckland, New Zealand stands out with the highest average total cost, crossing ₹9,000, indicating it IS the most expensive destinations.\n",
    "- Some destinations like Phuket, Thailand and Bangkok appear frequently but with lower average costs, suggesting they are more budget-friendly."
   ]
  },
  {
   "cell_type": "markdown",
   "id": "5299bcc3",
   "metadata": {},
   "source": [
    "11. Distribution of Traveler Ages"
   ]
  },
  {
   "cell_type": "code",
   "execution_count": 351,
   "id": "15d8df7a",
   "metadata": {},
   "outputs": [
    {
     "data": {
      "image/png": "[encoded data removed]",
      "text/plain": [
       "<Figure size 600x400 with 1 Axes>"
      ]
     },
     "metadata": {},
     "output_type": "display_data"
    }
   ],
   "source": [
    "plt.figure(figsize=(6, 4))\n",
    "sns.histplot(df['Traveler_Age'], bins=10, kde=False, color='skyblue', edgecolor='black')\n",
    "plt.title(\"Distribution of Traveler Ages\")\n",
    "plt.xlabel(\"Traveler_Age\")\n",
    "plt.ylabel(\"Count\")\n",
    "plt.tight_layout()\n",
    "plt.show()"
   ]
  },
  {
   "cell_type": "markdown",
   "id": "7a8beca6",
   "metadata": {},
   "source": [
    "Observations:\n",
    "- Most travelers are aged between 28 and 35, indicating that young adults are the primary group going on trips.\n",
    "- Very few travelers are older than 50, suggesting low participation from senior citizens in this travel data."
   ]
  },
  {
   "cell_type": "markdown",
   "id": "d7057322",
   "metadata": {},
   "source": [
    "# FINAL OBSERVATIONS"
   ]
  },
  {
   "cell_type": "markdown",
   "id": "0cd74e05",
   "metadata": {},
   "source": [
   "- The dataset shows how people plan and spend on trips.\n",
    "- Most trips involve moderate spending rather than being very cheap or luxurious.\n",
    "- Transportation and accommodation are the main things people spend money on.\n",
    "- Planes and trains are the most common travel choices.\n",
    "- Age and gender don’t strongly affect how much people spend.\n",
    "- Both men and women travel almost equally.\n",
    "- Most people take trips that are practical and budget-conscious.\n",
    "- A few travelers spend a lot more than average, but they are rare.\n",
    "- The data suggests people prefer efficient and comfortable travel without overspending.\n",
    "- Overall, the dataset reflects common travel habits and spending patterns among regular travelers.\n"
   ]
  }
 ],
 "metadata": {
  "kernelspec": {
   "display_name": "Python 3",
   "language": "python",
   "name": "python3"
  },
  "language_info": {
   "codemirror_mode": {
    "name": "ipython",
    "version": 3
   },
   "file_extension": ".py",
   "mimetype": "text/x-python",
   "name": "python",
   "nbconvert_exporter": "python",
   "pygments_lexer": "ipython3",
   "version": "3.13.2"
  }
 },
 "nbformat": 4,
 "nbformat_minor": 5
}
